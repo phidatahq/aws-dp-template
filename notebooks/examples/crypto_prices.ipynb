{
 "cells": [
  {
   "cell_type": "code",
   "execution_count": 10,
   "id": "ba73193b-a3c9-4c73-87f5-b2faeeb55f13",
   "metadata": {
    "tags": []
   },
   "outputs": [],
   "source": [
    "import pyarrow as pa\n",
    "from phidata.utils.print_table import print_table"
   ]
  },
  {
   "cell_type": "code",
   "execution_count": 11,
   "id": "07135c8b-9123-4928-b5f1-690dcb4f38fe",
   "metadata": {
    "tags": []
   },
   "outputs": [
    {
     "data": {
      "text/html": [
       "<pre style=\"white-space:pre;overflow-x:auto;line-height:normal;font-family:Menlo,'DejaVu Sans Mono',consolas,'Courier New',monospace\"><span style=\"font-style: italic\">                                                   Crypto Prices                                                   </span>\n",
       "+----------+---------+--------------------+--------------------+--------------------+-----------------+-----------+\n",
       "|<span style=\"font-weight: bold\">  ticker  </span>|<span style=\"font-weight: bold\">   usd   </span>|<span style=\"font-weight: bold\">   usd_market_cap   </span>|<span style=\"font-weight: bold\">    usd_24h_vol     </span>|<span style=\"font-weight: bold\">   usd_24h_change   </span>|<span style=\"font-weight: bold\"> last_updated_at </span>|<span style=\"font-weight: bold\">    ds     </span>|\n",
       "+----------+---------+--------------------+--------------------+--------------------+-----------------+-----------+\n",
       "| bitcoin  | 21025.0 | 405947422321.6018  | 49378862297.21805  | 5.877365062570138  |   1673739372    | 2023-01-… |\n",
       "+----------+---------+--------------------+--------------------+--------------------+-----------------+-----------+\n",
       "| ethereum | 1552.08 | 187378009163.23288 | 15536333353.753979 | 7.046929070290579  |   1673739338    | 2023-01-… |\n",
       "+----------+---------+--------------------+--------------------+--------------------+-----------------+-----------+\n",
       "| bitcoin  | 21365.0 | 411883965267.2505  | 32546107388.73355  |  2.42937564781503  |   1673896587    | 2023-01-… |\n",
       "+----------+---------+--------------------+--------------------+--------------------+-----------------+-----------+\n",
       "| ethereum | 1590.76 | 191304354126.35532 | 8645379807.070284  | 2.5782200401238597 |   1673896606    | 2023-01-… |\n",
       "+----------+---------+--------------------+--------------------+--------------------+-----------------+-----------+\n",
       "</pre>\n"
      ],
      "text/plain": [
       "\u001b[3m                                                   Crypto Prices                                                   \u001b[0m\n",
       "+----------+---------+--------------------+--------------------+--------------------+-----------------+-----------+\n",
       "|\u001b[1m \u001b[0m\u001b[1m ticker \u001b[0m\u001b[1m \u001b[0m|\u001b[1m \u001b[0m\u001b[1m  usd  \u001b[0m\u001b[1m \u001b[0m|\u001b[1m \u001b[0m\u001b[1m  usd_market_cap  \u001b[0m\u001b[1m \u001b[0m|\u001b[1m \u001b[0m\u001b[1m   usd_24h_vol    \u001b[0m\u001b[1m \u001b[0m|\u001b[1m \u001b[0m\u001b[1m  usd_24h_change  \u001b[0m\u001b[1m \u001b[0m|\u001b[1m \u001b[0m\u001b[1mlast_updated_at\u001b[0m\u001b[1m \u001b[0m|\u001b[1m \u001b[0m\u001b[1m   ds    \u001b[0m\u001b[1m \u001b[0m|\n",
       "+----------+---------+--------------------+--------------------+--------------------+-----------------+-----------+\n",
       "| bitcoin  | 21025.0 | 405947422321.6018  | 49378862297.21805  | 5.877365062570138  |   1673739372    | 2023-01-… |\n",
       "+----------+---------+--------------------+--------------------+--------------------+-----------------+-----------+\n",
       "| ethereum | 1552.08 | 187378009163.23288 | 15536333353.753979 | 7.046929070290579  |   1673739338    | 2023-01-… |\n",
       "+----------+---------+--------------------+--------------------+--------------------+-----------------+-----------+\n",
       "| bitcoin  | 21365.0 | 411883965267.2505  | 32546107388.73355  |  2.42937564781503  |   1673896587    | 2023-01-… |\n",
       "+----------+---------+--------------------+--------------------+--------------------+-----------------+-----------+\n",
       "| ethereum | 1590.76 | 191304354126.35532 | 8645379807.070284  | 2.5782200401238597 |   1673896606    | 2023-01-… |\n",
       "+----------+---------+--------------------+--------------------+--------------------+-----------------+-----------+\n"
      ]
     },
     "metadata": {},
     "output_type": "display_data"
    }
   ],
   "source": [
    "from workflows.crypto.prices import crypto_prices_local\n",
    "\n",
    "table: pa.Table = crypto_prices_local.read_table()\n",
    "print_table(title=\"Crypto Prices\", header=table.column_names, rows=table.to_pylist())"
   ]
  },
  {
   "cell_type": "code",
   "execution_count": 12,
   "id": "6b0e18fe-d44e-4392-be9e-387d16b0561f",
   "metadata": {
    "collapsed": true,
    "jupyter": {
     "outputs_hidden": true
    },
    "tags": []
   },
   "outputs": [
    {
     "name": "stdout",
     "output_type": "stream",
     "text": [
      "Requirement already satisfied: polars in /opt/conda/lib/python3.9/site-packages (0.15.15)\n",
      "Requirement already satisfied: typing_extensions>=4.0.0 in /opt/conda/lib/python3.9/site-packages (from polars) (4.4.0)\n",
      "\u001b[33mWARNING: Running pip as the 'root' user can result in broken permissions and conflicting behaviour with the system package manager. It is recommended to use a virtual environment instead: https://pip.pypa.io/warnings/venv\u001b[0m\u001b[33m\n",
      "\u001b[0m"
     ]
    }
   ],
   "source": [
    "# Install polars\n",
    "!pip install polars"
   ]
  },
  {
   "cell_type": "code",
   "execution_count": 14,
   "id": "d328379e-e141-4efb-9300-e240c93b06f5",
   "metadata": {
    "tags": []
   },
   "outputs": [
    {
     "name": "stdout",
     "output_type": "stream",
     "text": [
      "shape: (4, 7)\n",
      "┌──────────┬─────────┬────────────────┬─────────────┬────────────────┬────────────────┬────────────┐\n",
      "│ ticker   ┆ usd     ┆ usd_market_cap ┆ usd_24h_vol ┆ usd_24h_change ┆ last_updated_a ┆ ds         │\n",
      "│ ---      ┆ ---     ┆ ---            ┆ ---         ┆ ---            ┆ t              ┆ ---        │\n",
      "│ str      ┆ f64     ┆ f64            ┆ f64         ┆ f64            ┆ ---            ┆ str        │\n",
      "│          ┆         ┆                ┆             ┆                ┆ i64            ┆            │\n",
      "╞══════════╪═════════╪════════════════╪═════════════╪════════════════╪════════════════╪════════════╡\n",
      "│ bitcoin  ┆ 21025.0 ┆ 4.0595e11      ┆ 4.9379e10   ┆ 5.877365       ┆ 1673739372     ┆ 2023-01-14 │\n",
      "│ ethereum ┆ 1552.08 ┆ 1.8738e11      ┆ 1.5536e10   ┆ 7.046929       ┆ 1673739338     ┆ 2023-01-14 │\n",
      "│ bitcoin  ┆ 21365.0 ┆ 4.1188e11      ┆ 3.2546e10   ┆ 2.429376       ┆ 1673896587     ┆ 2023-01-16 │\n",
      "│ ethereum ┆ 1590.76 ┆ 1.9130e11      ┆ 8.6454e9    ┆ 2.57822        ┆ 1673896606     ┆ 2023-01-16 │\n",
      "└──────────┴─────────┴────────────────┴─────────────┴────────────────┴────────────────┴────────────┘\n"
     ]
    }
   ],
   "source": [
    "# Use polars to analyze data\n",
    "import polars as pl\n",
    "\n",
    "df: pl.DataFrame = pl.DataFrame(table)\n",
    "print(df)"
   ]
  },
  {
   "cell_type": "code",
   "execution_count": null,
   "id": "71b271be-4df0-451b-b64e-ee840ec89326",
   "metadata": {},
   "outputs": [],
   "source": []
  }
 ],
 "metadata": {
  "kernelspec": {
   "display_name": "Python 3 (ipykernel)",
   "language": "python",
   "name": "python3"
  },
  "language_info": {
   "codemirror_mode": {
    "name": "ipython",
    "version": 3
   },
   "file_extension": ".py",
   "mimetype": "text/x-python",
   "name": "python",
   "nbconvert_exporter": "python",
   "pygments_lexer": "ipython3",
   "version": "3.9.15"
  },
  "vscode": {
   "interpreter": {
    "hash": "d84be87103ff62aa725dffceeec80813b1d27b25edfe33e3fea4e70e2beafa13"
   }
  }
 },
 "nbformat": 4,
 "nbformat_minor": 5
}
